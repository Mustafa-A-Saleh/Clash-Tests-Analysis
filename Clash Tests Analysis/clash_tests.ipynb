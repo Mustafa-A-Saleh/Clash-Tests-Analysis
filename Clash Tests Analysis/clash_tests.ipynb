{
 "cells": [
  {
   "cell_type": "markdown",
   "metadata": {
    "slideshow": {
     "slide_type": "slide"
    }
   },
   "source": [
    "# Clash Tests Analysis\n",
    "## By (Group 07)"
   ]
  },
  {
   "cell_type": "markdown",
   "metadata": {
    "slideshow": {
     "slide_type": "slide"
    }
   },
   "source": [
    "## Dataset Overview\n",
    "\n",
    "- Our dataset consists of all the clash tests, exported from Navisworks, to perform clash detection and eliminate contradictions between disciplines in the project.\n"
   ]
  },
  {
   "cell_type": "code",
   "execution_count": 1,
   "metadata": {
    "slideshow": {
     "slide_type": "skip"
    }
   },
   "outputs": [],
   "source": [
    "# import all packages and set plots to be embedded inline\n",
    "import numpy as np\n",
    "import pandas as pd\n",
    "import matplotlib.pyplot as plt\n",
    "import seaborn as sb\n",
    "\n",
    "%matplotlib inline\n",
    "\n",
    "# suppress warnings from final output\n",
    "import warnings\n",
    "warnings.simplefilter(\"ignore\")"
   ]
  },
  {
   "cell_type": "code",
   "execution_count": 12,
   "metadata": {},
   "outputs": [
    {
     "data": {
      "text/html": [
       "<div>\n",
       "<style scoped>\n",
       "    .dataframe tbody tr th:only-of-type {\n",
       "        vertical-align: middle;\n",
       "    }\n",
       "\n",
       "    .dataframe tbody tr th {\n",
       "        vertical-align: top;\n",
       "    }\n",
       "\n",
       "    .dataframe thead th {\n",
       "        text-align: right;\n",
       "    }\n",
       "</style>\n",
       "<table border=\"1\" class=\"dataframe\">\n",
       "  <thead>\n",
       "    <tr style=\"text-align: right;\">\n",
       "      <th></th>\n",
       "      <th>test</th>\n",
       "      <th>total_clashes</th>\n",
       "      <th>round_1</th>\n",
       "      <th>round_2</th>\n",
       "      <th>round_3</th>\n",
       "      <th>round_4</th>\n",
       "    </tr>\n",
       "    <tr>\n",
       "      <th>id</th>\n",
       "      <th></th>\n",
       "      <th></th>\n",
       "      <th></th>\n",
       "      <th></th>\n",
       "      <th></th>\n",
       "      <th></th>\n",
       "    </tr>\n",
       "  </thead>\n",
       "  <tbody>\n",
       "    <tr>\n",
       "      <th>1</th>\n",
       "      <td>001 - AR Walls - AR Walls</td>\n",
       "      <td>42</td>\n",
       "      <td>41</td>\n",
       "      <td>33</td>\n",
       "      <td>36</td>\n",
       "      <td>34</td>\n",
       "    </tr>\n",
       "    <tr>\n",
       "      <th>2</th>\n",
       "      <td>002 - AR Walls - AR Windows-Doors</td>\n",
       "      <td>14</td>\n",
       "      <td>8</td>\n",
       "      <td>8</td>\n",
       "      <td>8</td>\n",
       "      <td>8</td>\n",
       "    </tr>\n",
       "    <tr>\n",
       "      <th>3</th>\n",
       "      <td>003 - AR Walls - AR Floors</td>\n",
       "      <td>107</td>\n",
       "      <td>68</td>\n",
       "      <td>66</td>\n",
       "      <td>70</td>\n",
       "      <td>67</td>\n",
       "    </tr>\n",
       "    <tr>\n",
       "      <th>4</th>\n",
       "      <td>004 - AR Walls - AR Roofs</td>\n",
       "      <td>0</td>\n",
       "      <td>0</td>\n",
       "      <td>0</td>\n",
       "      <td>0</td>\n",
       "      <td>0</td>\n",
       "    </tr>\n",
       "    <tr>\n",
       "      <th>5</th>\n",
       "      <td>005 - AR Walls - AR Stairs</td>\n",
       "      <td>0</td>\n",
       "      <td>0</td>\n",
       "      <td>0</td>\n",
       "      <td>0</td>\n",
       "      <td>0</td>\n",
       "    </tr>\n",
       "  </tbody>\n",
       "</table>\n",
       "</div>"
      ],
      "text/plain": [
       "                                 test  total_clashes  round_1  round_2  \\\n",
       "id                                                                       \n",
       "1           001 - AR Walls - AR Walls             42       41       33   \n",
       "2   002 - AR Walls - AR Windows-Doors             14        8        8   \n",
       "3          003 - AR Walls - AR Floors            107       68       66   \n",
       "4           004 - AR Walls - AR Roofs              0        0        0   \n",
       "5          005 - AR Walls - AR Stairs              0        0        0   \n",
       "\n",
       "    round_3  round_4  \n",
       "id                    \n",
       "1        36       34  \n",
       "2         8        8  \n",
       "3        70       67  \n",
       "4         0        0  \n",
       "5         0        0  "
      ]
     },
     "execution_count": 12,
     "metadata": {},
     "output_type": "execute_result"
    }
   ],
   "source": [
    "df.head()"
   ]
  },
  {
   "cell_type": "code",
   "execution_count": 2,
   "metadata": {
    "slideshow": {
     "slide_type": "skip"
    }
   },
   "outputs": [
    {
     "data": {
      "text/html": [
       "<div>\n",
       "<style scoped>\n",
       "    .dataframe tbody tr th:only-of-type {\n",
       "        vertical-align: middle;\n",
       "    }\n",
       "\n",
       "    .dataframe tbody tr th {\n",
       "        vertical-align: top;\n",
       "    }\n",
       "\n",
       "    .dataframe thead th {\n",
       "        text-align: right;\n",
       "    }\n",
       "</style>\n",
       "<table border=\"1\" class=\"dataframe\">\n",
       "  <thead>\n",
       "    <tr style=\"text-align: right;\">\n",
       "      <th></th>\n",
       "      <th>discipline_1</th>\n",
       "      <th>discipline_2</th>\n",
       "      <th>test</th>\n",
       "      <th>total_clashes</th>\n",
       "      <th>round_1</th>\n",
       "      <th>round_2</th>\n",
       "      <th>round_3</th>\n",
       "      <th>round_4</th>\n",
       "    </tr>\n",
       "    <tr>\n",
       "      <th>id</th>\n",
       "      <th></th>\n",
       "      <th></th>\n",
       "      <th></th>\n",
       "      <th></th>\n",
       "      <th></th>\n",
       "      <th></th>\n",
       "      <th></th>\n",
       "      <th></th>\n",
       "    </tr>\n",
       "  </thead>\n",
       "  <tbody>\n",
       "    <tr>\n",
       "      <th>1</th>\n",
       "      <td>AR Walls</td>\n",
       "      <td>AR Walls</td>\n",
       "      <td>001 - AR Walls - AR Walls</td>\n",
       "      <td>42</td>\n",
       "      <td>41</td>\n",
       "      <td>33</td>\n",
       "      <td>36</td>\n",
       "      <td>34</td>\n",
       "    </tr>\n",
       "    <tr>\n",
       "      <th>2</th>\n",
       "      <td>AR Walls</td>\n",
       "      <td>AR Windows-Doors</td>\n",
       "      <td>002 - AR Walls - AR Windows-Doors</td>\n",
       "      <td>14</td>\n",
       "      <td>8</td>\n",
       "      <td>8</td>\n",
       "      <td>8</td>\n",
       "      <td>8</td>\n",
       "    </tr>\n",
       "    <tr>\n",
       "      <th>3</th>\n",
       "      <td>AR Walls</td>\n",
       "      <td>AR Floors</td>\n",
       "      <td>003 - AR Walls - AR Floors</td>\n",
       "      <td>107</td>\n",
       "      <td>68</td>\n",
       "      <td>66</td>\n",
       "      <td>70</td>\n",
       "      <td>67</td>\n",
       "    </tr>\n",
       "    <tr>\n",
       "      <th>6</th>\n",
       "      <td>AR Walls</td>\n",
       "      <td>AR Railings</td>\n",
       "      <td>006 - AR Walls - AR Railings</td>\n",
       "      <td>6</td>\n",
       "      <td>0</td>\n",
       "      <td>0</td>\n",
       "      <td>0</td>\n",
       "      <td>0</td>\n",
       "    </tr>\n",
       "    <tr>\n",
       "      <th>7</th>\n",
       "      <td>AR Walls</td>\n",
       "      <td>STR Columns</td>\n",
       "      <td>007 - AR Walls - STR Columns</td>\n",
       "      <td>22</td>\n",
       "      <td>22</td>\n",
       "      <td>4</td>\n",
       "      <td>4</td>\n",
       "      <td>3</td>\n",
       "    </tr>\n",
       "  </tbody>\n",
       "</table>\n",
       "</div>"
      ],
      "text/plain": [
       "   discipline_1      discipline_2                               test  \\\n",
       "id                                                                     \n",
       "1      AR Walls          AR Walls          001 - AR Walls - AR Walls   \n",
       "2      AR Walls  AR Windows-Doors  002 - AR Walls - AR Windows-Doors   \n",
       "3      AR Walls         AR Floors         003 - AR Walls - AR Floors   \n",
       "6      AR Walls       AR Railings       006 - AR Walls - AR Railings   \n",
       "7      AR Walls       STR Columns       007 - AR Walls - STR Columns   \n",
       "\n",
       "    total_clashes  round_1  round_2  round_3  round_4  \n",
       "id                                                     \n",
       "1              42       41       33       36       34  \n",
       "2              14        8        8        8        8  \n",
       "3             107       68       66       70       67  \n",
       "6               6        0        0        0        0  \n",
       "7              22       22        4        4        3  "
      ]
     },
     "execution_count": 2,
     "metadata": {},
     "output_type": "execute_result"
    }
   ],
   "source": [
    "# load in the dataset into a pandas dataframe\n",
    "df = pd.read_csv('clashes.csv')\n",
    "# setting id column as index \n",
    "df.set_index('id', inplace = True)\n",
    "\n",
    "# rename columns to be easily manipulated\n",
    "df.rename(columns= {'name3':'test','total':'total_clashes','Round 1':'round_1','Round 2':'round_2','Round 3':'round_3','Round 4':'round_4'}, inplace=True)\n",
    "\n",
    "# eliminate all zero values\n",
    "df1= df[df.total_clashes > 0]\n",
    "df1.describe()\n",
    "df1.head()\n",
    "\n",
    "# split test column to three columns(test_number, discipline_1, discipline_2)\n",
    "clash_tests = df1['test'].str.split(' - ', expand=True)\n",
    "clash_tests[0] = pd.to_numeric(clash_tests[0])\n",
    "\n",
    "# merge the new columns with df1\n",
    "df1= pd.merge(clash_tests, df1, left_index=True, right_index=True )\n",
    "df1.rename(columns= {0:'test_number', 1:'discipline_1', 2:'discipline_2'}, inplace = True)\n",
    "df1.drop('test_number', axis= 1, inplace= True)\n",
    "df1.head()"
   ]
  },
  {
   "cell_type": "markdown",
   "metadata": {
    "slideshow": {
     "slide_type": "notes"
    }
   },
   "source": [
    "> Note that the above cells have been set as \"Skip\"-type slides. That means\n",
    "that when the notebook is rendered as http slides, those cells won't show up."
   ]
  },
  {
   "cell_type": "markdown",
   "metadata": {
    "slideshow": {
     "slide_type": "slide"
    }
   },
   "source": [
    "## Total Clashes by Discipline\n",
    "\n",
    "- AR clashes takes the lead with 44%, followed by STR clashes (34%), ME clashes (18%), and El clashes (almost 5%)\n",
    "\n"
   ]
  },
  {
   "cell_type": "code",
   "execution_count": 10,
   "metadata": {
    "slideshow": {
     "slide_type": "subslide"
    }
   },
   "outputs": [
    {
     "data": {
      "image/png": "[encoded data removed]",
      "text/plain": [
       "<Figure size 576x576 with 1 Axes>"
      ]
     },
     "metadata": {},
     "output_type": "display_data"
    }
   ],
   "source": [
    "# total clashes by discipline.\n",
    "ar_all = df1.loc[df1['discipline_1'].str.contains('AR ') | df1['discipline_2'].str.contains('AR ')].total_clashes.sum()\n",
    "str_all = df1.loc[df1['discipline_1'].str.contains('STR ') | df1['discipline_2'].str.contains('STR ')].total_clashes.sum()\n",
    "me_all = df1.loc[df1['discipline_1'].str.contains('ME ') | df1['discipline_2'].str.contains('ME ')].total_clashes.sum()\n",
    "el_all = df1.loc[df1['discipline_1'].str.contains('EL ') | df1['discipline_2'].str.contains('EL ')].total_clashes.sum()\n",
    "\n",
    "# create a list containing disciplines clashes\n",
    "discipline_clashes = [ar_all, str_all, me_all, el_all]\n",
    "\n",
    "# Pie Chart to show total clashes by discipline\n",
    "plt.figure(figsize=[8,8])\n",
    "plt.pie(discipline_clashes, labels=['AR Clashes','STR Clashes', 'ME Clashes','EL Clashes'], autopct='%1.0f%%', colors=['tab:blue', 'c', 'tab:green', 'y'])\n",
    "plt.title('Clashes by Discipline');"
   ]
  },
  {
   "cell_type": "markdown",
   "metadata": {
    "collapsed": true,
    "slideshow": {
     "slide_type": "slide"
    }
   },
   "source": [
    "## Total Clashes Over the Four Rounds (Phase 1)\n",
    "\n",
    "- By the end of phase 1 (over four rounds), almost 50% of the issues were eliminated by the team. Most of these clashes were between same discipline\n"
   ]
  },
  {
   "cell_type": "code",
   "execution_count": 4,
   "metadata": {
    "slideshow": {
     "slide_type": "subslide"
    }
   },
   "outputs": [
    {
     "data": {
      "image/png": "[encoded data removed]",
      "text/plain": [
       "<Figure size 864x432 with 1 Axes>"
      ]
     },
     "metadata": {
      "needs_background": "light"
     },
     "output_type": "display_data"
    }
   ],
   "source": [
    "# plot clashes over the 4 rounds (Phase 1)\n",
    "plt.figure(figsize = [12, 6])\n",
    "y= df1.sum(numeric_only = True)\n",
    "x=['Total Clashes', 'Round 1', 'Round 2', 'Round 3', 'Round 4']\n",
    "s= sb.lineplot(x=x, y=y, color = sb.color_palette()[0])\n",
    "\n",
    "plt.ylim(750,2700)\n",
    "plt.xlabel('Rounds');\n",
    "plt.ylabel('Number of Clashes');\n",
    "plt.title('Clashes (Phase 1)');"
   ]
  },
  {
   "cell_type": "markdown",
   "metadata": {
    "slideshow": {
     "slide_type": "slide"
    }
   },
   "source": [
    "## Clashes Between Same Discipline (Combined)\n",
    "\n",
    "- STR, ME, El discipline were doing fine through over the rounds. AR discipline started with higher clashes that needed further investigation.\n",
    "\n"
   ]
  },
  {
   "cell_type": "code",
   "execution_count": 5,
   "metadata": {
    "slideshow": {
     "slide_type": "subslide"
    }
   },
   "outputs": [
    {
     "data": {
      "image/png": "[encoded data removed]",
      "text/plain": [
       "<Figure size 1296x720 with 4 Axes>"
      ]
     },
     "metadata": {
      "needs_background": "light"
     },
     "output_type": "display_data"
    }
   ],
   "source": [
    "# clashes between same discipline (combined)\n",
    "ar_ar = df1.groupby(df1['discipline_1'].str.contains('AR ') & df1['discipline_2'].str.contains('AR ')).sum().values[1]\n",
    "str_str = df1.groupby(df1['discipline_1'].str.contains('STR ') & df1['discipline_2'].str.contains('STR ')).sum().values[1]\n",
    "me_me = df1.groupby(df1['discipline_1'].str.contains('ME ') & df1['discipline_2'].str.contains('ME ')).sum().values[1]\n",
    "el_el = df1.groupby(df1['discipline_1'].str.contains('EL ') & df1['discipline_2'].str.contains('EL ')).sum().values[1]\n",
    "\n",
    "# Plots\n",
    "fig, axes = plt.subplots(nrows=2, ncols=2, figsize = [18, 10])\n",
    "fig.figsize=[6,3]\n",
    "\n",
    "# AR-AR (Combined)\n",
    "s= sb.barplot(x=x, y=ar_ar, color = sb.color_palette()[0], ax = axes[0,0])\n",
    "\n",
    "axes[0,0].set_ylim(0,200)\n",
    "axes[0,0].set_xlabel('Rounds');\n",
    "axes[0,0].set_ylabel('Number of Clashes');\n",
    "axes[0,0].set_title('AR-AR Clashes (Phase 1)');\n",
    "\n",
    "# STR-STR (Combined)\n",
    "s= sb.barplot(x=x, y=str_str, color = sb.color_palette()[0], ax = axes[0,1])\n",
    "\n",
    "axes[0,1].set_ylim(0,200)\n",
    "axes[0,1].set_xlabel('Rounds');\n",
    "axes[0,1].set_ylabel('Number of Clashes');\n",
    "axes[0,1].set_title('STR-STR Clashes (Phase 1)');\n",
    "\n",
    "# ME-ME (Combined)\n",
    "s= sb.barplot(x=x, y=me_me, color = sb.color_palette()[0], ax = axes[1,0])\n",
    "\n",
    "axes[1,0].set_ylim(0,200)\n",
    "axes[1,0].set_xlabel('Rounds');\n",
    "axes[1,0].set_ylabel('Number of Clashes');\n",
    "axes[1,0].set_title('ME-ME Clashes (Phase 1)');\n",
    "\n",
    "# EL-EL (Combined)\n",
    "s= sb.barplot(x=x, y=el_el, color = sb.color_palette()[0], ax = axes[1,1])\n",
    "\n",
    "axes[1,1].set_ylim(0,200)\n",
    "axes[1,1].set_xlabel('Rounds');\n",
    "axes[1,1].set_ylabel('Number of Clashes');\n",
    "axes[1,1].set_title('EL-EL Clashes (Phase 1)');"
   ]
  },
  {
   "cell_type": "markdown",
   "metadata": {
    "slideshow": {
     "slide_type": "slide"
    }
   },
   "source": [
    "## AR Walls Clashes as % of the total\n",
    "\n",
    "- AR Walls clashes were almost 80 % of the total clashes.\n",
    "\n"
   ]
  },
  {
   "cell_type": "code",
   "execution_count": 6,
   "metadata": {
    "slideshow": {
     "slide_type": "subslide"
    }
   },
   "outputs": [
    {
     "data": {
      "image/png": "[encoded data removed]",
      "text/plain": [
       "<Figure size 864x432 with 1 Axes>"
      ]
     },
     "metadata": {
      "needs_background": "light"
     },
     "output_type": "display_data"
    }
   ],
   "source": [
    "## AR Walls Clashes as % of the total\n",
    "ar_wall = df1.loc[df1['discipline_1'].str.contains('AR Wall') | df1['discipline_2'].str.contains('AR Wall')]\n",
    "ar_wall_mean= ar_wall.sum(numeric_only = True)/df.sum(numeric_only = True)\n",
    "\n",
    "plt.figure(figsize = [12, 6])\n",
    "y= ar_wall_mean*100\n",
    "x=['Total Clashes', 'Round 1', 'Round 2', 'Round 3', 'Round 4']\n",
    "s= sb.barplot(x=x, y=y, color = sb.color_palette()[0])\n",
    "\n",
    "plt.ylim(0,100)\n",
    "plt.xlabel('Rounds');\n",
    "plt.ylabel('Percentage of Total Clashes %');\n",
    "plt.title('Clashes (Phase 1)');\n",
    "# Plotting vertical line showing the mean\n",
    "plt.axhline(y.mean(), color='r', lw=2);"
   ]
  },
  {
   "cell_type": "markdown",
   "metadata": {
    "slideshow": {
     "slide_type": "slide"
    }
   },
   "source": [
    "## Insights\n",
    "\n",
    "#### 1- Most of the clashes are divided between AR & STR disciplines.\n",
    "#### 2- AR Walls issues represents (75% - 88%) of total clashes.\n",
    "#### 3- Most of the AR Walls clashes occur due to mistaken wall height.\n",
    "#### 4- These clashes cause no problem at construction stage, but they have a great impact on the BOQ.\n",
    "#### 5- Approximately no thing has changed between Round 3 & Round 4, so we are going to start \"Phase 2\" with new XML files.\n",
    "\n"
   ]
  },
  {
   "cell_type": "markdown",
   "metadata": {
    "slideshow": {
     "slide_type": "notes"
    }
   },
   "source": [
    ">**Generate Slideshow**: Once you're ready to generate your slideshow, use the `jupyter nbconvert` command to generate the HTML slide show. . From the terminal or command line, use the following expression."
   ]
  },
  {
   "cell_type": "code",
   "execution_count": 11,
   "metadata": {
    "slideshow": {
     "slide_type": "skip"
    }
   },
   "outputs": [
    {
     "ename": "SyntaxError",
     "evalue": "invalid syntax (<ipython-input-11-e8a23fb4615a>, line 1)",
     "output_type": "error",
     "traceback": [
      "\u001b[1;36m  File \u001b[1;32m\"<ipython-input-11-e8a23fb4615a>\"\u001b[1;36m, line \u001b[1;32m1\u001b[0m\n\u001b[1;33m    jupyter nbconvert --to slides --no-input clash_tests.ipynb\u001b[0m\n\u001b[1;37m            ^\u001b[0m\n\u001b[1;31mSyntaxError\u001b[0m\u001b[1;31m:\u001b[0m invalid syntax\n"
     ]
    }
   ],
   "source": [
    "jupyter nbconvert --to slides --no-input clash_tests.ipynb"
   ]
  },
  {
   "cell_type": "markdown",
   "metadata": {
    "slideshow": {
     "slide_type": "notes"
    }
   },
   "source": [
    "> This should open a tab in your web browser where you can scroll through your presentation. Sub-slides can be accessed by pressing 'down' when viewing its parent slide. Make sure you remove all of the quote-formatted guide notes like this one before you finish your presentation! At last, you can stop the Kernel. "
   ]
  },
  {
   "cell_type": "code",
   "execution_count": null,
   "metadata": {},
   "outputs": [],
   "source": []
  }
 ],
 "metadata": {
  "celltoolbar": "Slideshow",
  "kernelspec": {
   "display_name": "Python 3",
   "language": "python",
   "name": "python3"
  },
  "language_info": {
   "codemirror_mode": {
    "name": "ipython",
    "version": 3
   },
   "file_extension": ".py",
   "mimetype": "text/x-python",
   "name": "python",
   "nbconvert_exporter": "python",
   "pygments_lexer": "ipython3",
   "version": "3.8.5"
  }
 },
 "nbformat": 4,
 "nbformat_minor": 2
}
